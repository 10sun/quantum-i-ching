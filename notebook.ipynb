{
 "nbformat": 4,
 "nbformat_minor": 2,
 "metadata": {
  "language_info": {
   "name": "python",
   "codemirror_mode": {
    "name": "ipython",
    "version": 3
   }
  },
  "orig_nbformat": 2,
  "file_extension": ".py",
  "mimetype": "text/x-python",
  "name": "python",
  "npconvert_exporter": "python",
  "pygments_lexer": "ipython3",
  "version": 3
 },
 "cells": [
  {
   "cell_type": "code",
   "execution_count": 1,
   "metadata": {},
   "outputs": [],
   "source": [
    "# Setup Dependencies\n",
    "from qiskit import *"
   ]
  },
  {
   "cell_type": "code",
   "execution_count": 2,
   "metadata": {},
   "outputs": [
    {
     "data": {
      "text/html": "<pre style=\"word-wrap: normal;white-space: pre;background: #fff0;line-height: 1.1;font-family: &quot;Courier New&quot;,Courier,monospace\">             ┌───┐ ░ ┌─┐               \n     q_0: |0>┤ H ├─░─┤M├───────────────\n             ├───┤ ░ └╥┘┌─┐            \n     q_1: |0>┤ H ├─░──╫─┤M├────────────\n             ├───┤ ░  ║ └╥┘┌─┐         \n     q_2: |0>┤ H ├─░──╫──╫─┤M├─────────\n             ├───┤ ░  ║  ║ └╥┘┌─┐      \n     q_3: |0>┤ H ├─░──╫──╫──╫─┤M├──────\n             ├───┤ ░  ║  ║  ║ └╥┘┌─┐   \n     q_4: |0>┤ H ├─░──╫──╫──╫──╫─┤M├───\n             ├───┤ ░  ║  ║  ║  ║ └╥┘┌─┐\n     q_5: |0>┤ H ├─░──╫──╫──╫──╫──╫─┤M├\n             └───┘ ░  ║  ║  ║  ║  ║ └╥┘\nmeasure_0: 0 ═════════╩══╬══╬══╬══╬══╬═\n                         ║  ║  ║  ║  ║ \nmeasure_1: 0 ════════════╩══╬══╬══╬══╬═\n                            ║  ║  ║  ║ \nmeasure_2: 0 ═══════════════╩══╬══╬══╬═\n                               ║  ║  ║ \nmeasure_3: 0 ══════════════════╩══╬══╬═\n                                  ║  ║ \nmeasure_4: 0 ═════════════════════╩══╬═\n                                     ║ \nmeasure_5: 0 ════════════════════════╩═\n                                       </pre>",
      "text/plain": "<qiskit.visualization.text.TextDrawing at 0x110aab278>"
     },
     "execution_count": 2,
     "metadata": {},
     "output_type": "execute_result"
    }
   ],
   "source": [
    "# Setup Quantum Circuit\n",
    "\n",
    "circ = QuantumCircuit(6)\n",
    "for i in range(6):\n",
    "    circ.h(i)\n",
    "circ.measure_all()\n",
    "circ.draw()"
   ]
  },
  {
   "cell_type": "code",
   "execution_count": 3,
   "metadata": {},
   "outputs": [],
   "source": [
    "# Use Simulator for Testing\n",
    "\n",
    "from qiskit import Aer\n",
    "backend = Aer.get_backend('qasm_simulator')"
   ]
  },
  {
   "cell_type": "code",
   "execution_count": 4,
   "metadata": {},
   "outputs": [
    {
     "data": {
      "text/plain": "'兌坎'"
     },
     "execution_count": 4,
     "metadata": {},
     "output_type": "execute_result"
    }
   ],
   "source": [
    "# Execute the Result\n",
    "\n",
    "job = execute(circ, backend, shots=1)\n",
    "result = job.result().get_counts(circ)\n",
    "\n",
    "# Convert result to 「重卦」\n",
    "BAGUAS = '乾兌離震巽坎艮坤'\n",
    "\n",
    "converted = int(list(result.keys())[0], 2)\n",
    "BAGUAS[converted >> 3] + BAGUAS[converted % 8]"
   ]
  },
  {
   "cell_type": "code",
   "execution_count": null,
   "metadata": {},
   "outputs": [],
   "source": []
  }
 ]
}