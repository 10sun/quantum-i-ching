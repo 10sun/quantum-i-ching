{
 "nbformat": 4,
 "nbformat_minor": 2,
 "metadata": {
  "language_info": {
   "name": "python",
   "codemirror_mode": {
    "name": "ipython",
    "version": 3
   }
  },
  "orig_nbformat": 2,
  "file_extension": ".py",
  "mimetype": "text/x-python",
  "name": "python",
  "npconvert_exporter": "python",
  "pygments_lexer": "ipython3",
  "version": 3
 },
 "cells": [
  {
   "cell_type": "markdown",
   "execution_count": null,
   "metadata": {},
   "outputs": [],
   "source": [
    "# A Dialect for Poe divination (擲筊)\n",
    "\n",
    "** 利用量子力學擲筊，可能需要在土地廟使用。 **"
   ]
  },
  {
   "cell_type": "code",
   "execution_count": 1,
   "metadata": {},
   "outputs": [],
   "source": [
    "# Setup Dependencies\n",
    "from qiskit import *"
   ]
  },
  {
   "cell_type": "code",
   "execution_count": 2,
   "metadata": {},
   "outputs": [],
   "source": [
    "# Setup Poe Dictionaty\n",
    "POES = ['陰筊', '聖筊', '聖筊', '笑筊']"
   ]
  },
  {
   "cell_type": "code",
   "execution_count": 3,
   "metadata": {},
   "outputs": [
    {
     "data": {
      "text/html": "<pre style=\"word-wrap: normal;white-space: pre;background: #fff0;line-height: 1.1;font-family: &quot;Courier New&quot;,Courier,monospace\">             ┌───┐ ░ ┌─┐   \n     q_0: |0>┤ H ├─░─┤M├───\n             ├───┤ ░ └╥┘┌─┐\n     q_1: |0>┤ H ├─░──╫─┤M├\n             └───┘ ░  ║ └╥┘\nmeasure_0: 0 ═════════╩══╬═\n                         ║ \nmeasure_1: 0 ════════════╩═\n                           </pre>",
      "text/plain": "<qiskit.visualization.text.TextDrawing at 0x1191d6080>"
     },
     "execution_count": 3,
     "metadata": {},
     "output_type": "execute_result"
    }
   ],
   "source": [
    "# Setup Quantum Circuit\n",
    "circ = QuantumCircuit(2)\n",
    "for i in range(2):\n",
    "    circ.h(i)\n",
    "circ.measure_all()\n",
    "circ.draw()"
   ]
  },
  {
   "cell_type": "code",
   "execution_count": 4,
   "metadata": {},
   "outputs": [],
   "source": [
    "# Use Simulator for Testing\n",
    "backend = Aer.get_backend('qasm_simulator')"
   ]
  },
  {
   "cell_type": "code",
   "execution_count": 5,
   "metadata": {},
   "outputs": [
    {
     "data": {
      "text/plain": "'聖筊'"
     },
     "execution_count": 5,
     "metadata": {},
     "output_type": "execute_result"
    }
   ],
   "source": [
    "# Execute the Result\n",
    "job = execute(circ, backend, shots=1)\n",
    "result = job.result().get_counts(circ)\n",
    "\n",
    "# Convert results\n",
    "converted = int(list(result.keys())[0], 2)\n",
    "POES[converted]"
   ]
  },
  {
   "cell_type": "code",
   "execution_count": null,
   "metadata": {},
   "outputs": [],
   "source": []
  }
 ]
}